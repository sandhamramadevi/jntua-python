{
  "nbformat": 4,
  "nbformat_minor": 0,
  "metadata": {
    "colab": {
      "name": "DAY9(30-01-2020)",
      "provenance": [],
      "collapsed_sections": [],
      "authorship_tag": "ABX9TyOts3uYU7dXQ1LBVryQgavs",
      "include_colab_link": true
    },
    "kernelspec": {
      "name": "python3",
      "display_name": "Python 3"
    }
  },
  "cells": [
    {
      "cell_type": "markdown",
      "metadata": {
        "id": "view-in-github",
        "colab_type": "text"
      },
      "source": [
        "<a href=\"https://colab.research.google.com/github/sandhamramadevi/jntua-python/blob/master/DAY9(30_01_2020).ipynb\" target=\"_parent\"><img src=\"https://colab.research.google.com/assets/colab-badge.svg\" alt=\"Open In Colab\"/></a>"
      ]
    },
    {
      "cell_type": "code",
      "metadata": {
        "id": "bRHIbYwVYLOM",
        "colab_type": "code",
        "colab": {}
      },
      "source": [
        ""
      ],
      "execution_count": 0,
      "outputs": []
    },
    {
      "cell_type": "markdown",
      "metadata": {
        "id": "zoQ8fHTmZtY0",
        "colab_type": "text"
      },
      "source": [
        "# Markdown\n",
        "## markdown\n",
        "### markdown\n"
      ]
    },
    {
      "cell_type": "code",
      "metadata": {
        "id": "IU5hIpLkalG7",
        "colab_type": "code",
        "colab": {}
      },
      "source": [
        ""
      ],
      "execution_count": 0,
      "outputs": []
    },
    {
      "cell_type": "markdown",
      "metadata": {
        "id": "pRirDxZBa614",
        "colab_type": "text"
      },
      "source": [
        ""
      ]
    },
    {
      "cell_type": "markdown",
      "metadata": {
        "id": "L-AbDVbda7DG",
        "colab_type": "text"
      },
      "source": [
        ""
      ]
    },
    {
      "cell_type": "markdown",
      "metadata": {
        "id": "EYB_u_aDa7Ml",
        "colab_type": "text"
      },
      "source": [
        "**points**\n",
        "\n",
        "*points*\n",
        "\n",
        "***points***\n",
        "\n"
      ]
    },
    {
      "cell_type": "markdown",
      "metadata": {
        "id": "OX0Vr_ewc7Fc",
        "colab_type": "text"
      },
      "source": [
        "*** Adding links to markdown*** \n",
        "\n",
        "[site](https://www.jntua.ac.in/)"
      ]
    },
    {
      "cell_type": "markdown",
      "metadata": {
        "id": "g9HWhN65dvF5",
        "colab_type": "text"
      },
      "source": [
        "![text](data:image/jpeg;base64,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)"
      ]
    },
    {
      "cell_type": "code",
      "metadata": {
        "id": "uVFQBmQ8e6YO",
        "colab_type": "code",
        "colab": {}
      },
      "source": [
        ""
      ],
      "execution_count": 0,
      "outputs": []
    },
    {
      "cell_type": "code",
      "metadata": {
        "id": "m-x0jkfFfCH9",
        "colab_type": "code",
        "colab": {
          "base_uri": "https://localhost:8080/",
          "height": 34
        },
        "outputId": "5a2ce8ea-f523-454c-e8d7-135aa4cada59"
      },
      "source": [
        "print(\"hello world\")\n"
      ],
      "execution_count": 1,
      "outputs": [
        {
          "output_type": "stream",
          "text": [
            "hello world\n"
          ],
          "name": "stdout"
        }
      ]
    },
    {
      "cell_type": "code",
      "metadata": {
        "id": "vC43_AA6fKO0",
        "colab_type": "code",
        "colab": {
          "base_uri": "https://localhost:8080/",
          "height": 34
        },
        "outputId": "3ace9f2e-2be0-4b87-cd14-48231f126156"
      },
      "source": [
        "print(\"hello, jntua\",\"|||\" ,\"cse\",\"|||\",\"mca\")\n"
      ],
      "execution_count": 2,
      "outputs": [
        {
          "output_type": "stream",
          "text": [
            "hello, jntua ||| cse ||| mca\n"
          ],
          "name": "stdout"
        }
      ]
    },
    {
      "cell_type": "markdown",
      "metadata": {
        "id": "vZLYjSCzfObE",
        "colab_type": "text"
      },
      "source": [
        ""
      ]
    },
    {
      "cell_type": "markdown",
      "metadata": {
        "id": "s1IvkWz8fOkr",
        "colab_type": "text"
      },
      "source": [
        "# variable creation\n"
      ]
    },
    {
      "cell_type": "code",
      "metadata": {
        "id": "_hmft9twlBCv",
        "colab_type": "code",
        "colab": {
          "base_uri": "https://localhost:8080/",
          "height": 68
        },
        "outputId": "b06b775a-4f0b-4663-c9ae-8378980fe07f"
      },
      "source": [
        "n1=100\n",
        "print(n1)\n",
        "a=b=c=10 #multi variable assignment of same value\n",
        "print(a,b,c)\n",
        "a1,b1,c1=1,2,3\n",
        "print(a1,b1,c1)\n"
      ],
      "execution_count": 4,
      "outputs": [
        {
          "output_type": "stream",
          "text": [
            "100\n",
            "10 10 10\n",
            "1 2 3\n"
          ],
          "name": "stdout"
        }
      ]
    },
    {
      "cell_type": "code",
      "metadata": {
        "id": "dsUKGF5dmRwZ",
        "colab_type": "code",
        "colab": {}
      },
      "source": [
        ""
      ],
      "execution_count": 0,
      "outputs": []
    },
    {
      "cell_type": "markdown",
      "metadata": {
        "id": "NtTdSCBnmiOG",
        "colab_type": "text"
      },
      "source": [
        "#Data types and conversions\n",
        "*int \n",
        "\n",
        "*float \n",
        "\n",
        "*string\n"
      ]
    },
    {
      "cell_type": "code",
      "metadata": {
        "id": "oVRAJBIwnEb1",
        "colab_type": "code",
        "colab": {
          "base_uri": "https://localhost:8080/",
          "height": 34
        },
        "outputId": "9e54fc9d-fb7f-4b77-fc38-eeff3f7466ec"
      },
      "source": [
        "a=100\n",
        "s1=10.2\n",
        "s2=\"python\"\n",
        "print(type(a),type(s1),type(s2))\n"
      ],
      "execution_count": 5,
      "outputs": [
        {
          "output_type": "stream",
          "text": [
            "<class 'int'> <class 'float'> <class 'str'>\n"
          ],
          "name": "stdout"
        }
      ]
    },
    {
      "cell_type": "code",
      "metadata": {
        "id": "CB4uFxTqnSzO",
        "colab_type": "code",
        "colab": {
          "base_uri": "https://localhost:8080/",
          "height": 51
        },
        "outputId": "63e28037-c829-4e6f-96b3-bc0b084b8b2e"
      },
      "source": [
        "i=100\n",
        "s1=type(i)\n",
        "s1=str(i)\n",
        "print(type(s1))\n",
        "f1=float(i)\n",
        "print(type(f1))"
      ],
      "execution_count": 6,
      "outputs": [
        {
          "output_type": "stream",
          "text": [
            "<class 'str'>\n",
            "<class 'float'>\n"
          ],
          "name": "stdout"
        }
      ]
    },
    {
      "cell_type": "code",
      "metadata": {
        "id": "qQ7BIutPoa8d",
        "colab_type": "code",
        "colab": {}
      },
      "source": [
        ""
      ],
      "execution_count": 0,
      "outputs": []
    },
    {
      "cell_type": "markdown",
      "metadata": {
        "id": "IfKRMgyYo8XC",
        "colab_type": "text"
      },
      "source": [
        "# length\n"
      ]
    },
    {
      "cell_type": "code",
      "metadata": {
        "id": "-DK_y8PupU8G",
        "colab_type": "code",
        "colab": {
          "base_uri": "https://localhost:8080/",
          "height": 34
        },
        "outputId": "512156de-d4da-480e-ad12-07dc90bf156e"
      },
      "source": [
        "a=123456\n",
        "print(len(str(a)))\n"
      ],
      "execution_count": 7,
      "outputs": [
        {
          "output_type": "stream",
          "text": [
            "6\n"
          ],
          "name": "stdout"
        }
      ]
    },
    {
      "cell_type": "code",
      "metadata": {
        "id": "6noamo05pdvQ",
        "colab_type": "code",
        "colab": {}
      },
      "source": [
        ""
      ],
      "execution_count": 0,
      "outputs": []
    },
    {
      "cell_type": "markdown",
      "metadata": {
        "id": "Oe_A_TYIpfoR",
        "colab_type": "text"
      },
      "source": [
        "# Reading input from user-----input function\n"
      ]
    },
    {
      "cell_type": "code",
      "metadata": {
        "id": "mVSJIT-kpmTO",
        "colab_type": "code",
        "colab": {
          "base_uri": "https://localhost:8080/",
          "height": 68
        },
        "outputId": "75d08b03-1a3d-4b2b-caba-0a6688caf3b4"
      },
      "source": [
        "a=input(\"enter ur name : \")\n",
        "print(a)\n",
        "print(type(a))\n",
        "\n"
      ],
      "execution_count": 9,
      "outputs": [
        {
          "output_type": "stream",
          "text": [
            "enter ur name : ramaaa\n",
            "ramaaa\n",
            "<class 'str'>\n"
          ],
          "name": "stdout"
        }
      ]
    },
    {
      "cell_type": "code",
      "metadata": {
        "id": "i4kDYkj-p4m9",
        "colab_type": "code",
        "colab": {
          "base_uri": "https://localhost:8080/",
          "height": 68
        },
        "outputId": "a466a064-7c56-4058-f888-47cc0ca3dc2d"
      },
      "source": [
        "b=int(input(\"enter ur age : \"))\n",
        "print(b)\n",
        "print(type(b))\n",
        "\n"
      ],
      "execution_count": 10,
      "outputs": [
        {
          "output_type": "stream",
          "text": [
            "enter ur age : 20\n",
            "20\n",
            "<class 'int'>\n"
          ],
          "name": "stdout"
        }
      ]
    },
    {
      "cell_type": "code",
      "metadata": {
        "id": "9AKBphXvqzi5",
        "colab_type": "code",
        "colab": {}
      },
      "source": [
        ""
      ],
      "execution_count": 0,
      "outputs": []
    },
    {
      "cell_type": "markdown",
      "metadata": {
        "id": "RyGr_fLzrGb8",
        "colab_type": "text"
      },
      "source": [
        "# Operators\n"
      ]
    },
    {
      "cell_type": "code",
      "metadata": {
        "id": "QZpL6Y54rL-r",
        "colab_type": "code",
        "colab": {}
      },
      "source": [
        ""
      ],
      "execution_count": 0,
      "outputs": []
    },
    {
      "cell_type": "markdown",
      "metadata": {
        "id": "uDJJ9ZqMrOJ-",
        "colab_type": "text"
      },
      "source": [
        "### operator is a symbol is used to perform a specific kind of operations.\n",
        "## Arithmetic operator\n",
        "- +\n",
        "- -\n",
        "- *\n",
        "- /\n",
        "- %\n",
        "- //\n",
        "- **"
      ]
    },
    {
      "cell_type": "code",
      "metadata": {
        "id": "GIqa23z-rufO",
        "colab_type": "code",
        "colab": {
          "base_uri": "https://localhost:8080/",
          "height": 136
        },
        "outputId": "b08c8cdd-281d-4e99-b94a-93ac6da94e7c"
      },
      "source": [
        "a=1234\n",
        "print(a+10)\n",
        "print(a-10)\n",
        "print(a*10)\n",
        "print(a/10)\n",
        "print(a%10)\n",
        "print(a//10)\n",
        "print(a**10)\n",
        "\n"
      ],
      "execution_count": 13,
      "outputs": [
        {
          "output_type": "stream",
          "text": [
            "1244\n",
            "1224\n",
            "12340\n",
            "123.4\n",
            "4\n",
            "123\n",
            "8187505353567209228244052427776\n"
          ],
          "name": "stdout"
        }
      ]
    },
    {
      "cell_type": "code",
      "metadata": {
        "id": "tFPBR2LssDyd",
        "colab_type": "code",
        "colab": {}
      },
      "source": [
        ""
      ],
      "execution_count": 0,
      "outputs": []
    },
    {
      "cell_type": "markdown",
      "metadata": {
        "id": "EcY663xwt_oS",
        "colab_type": "text"
      },
      "source": [
        "#Relational operators\n",
        "- =\n",
        "- ==\n",
        "- !=\n",
        "- >\n",
        "- <\n",
        "- >=\n",
        "- <=\n"
      ]
    },
    {
      "cell_type": "code",
      "metadata": {
        "id": "7LhCOZAbuoYf",
        "colab_type": "code",
        "colab": {
          "base_uri": "https://localhost:8080/",
          "height": 34
        },
        "outputId": "3efd6617-6ce3-459d-fd8c-b040107b9d1d"
      },
      "source": [
        "x=10\n",
        "a=x>15\n",
        "print(a)\n"
      ],
      "execution_count": 14,
      "outputs": [
        {
          "output_type": "stream",
          "text": [
            "False\n"
          ],
          "name": "stdout"
        }
      ]
    },
    {
      "cell_type": "code",
      "metadata": {
        "id": "mvnZa23xuuZ_",
        "colab_type": "code",
        "colab": {}
      },
      "source": [
        ""
      ],
      "execution_count": 0,
      "outputs": []
    },
    {
      "cell_type": "markdown",
      "metadata": {
        "id": "4LIBG21ZvAD3",
        "colab_type": "text"
      },
      "source": [
        "# Logical operators\n"
      ]
    },
    {
      "cell_type": "markdown",
      "metadata": {
        "id": "qxduqZIhvOJM",
        "colab_type": "text"
      },
      "source": [
        "- and\n",
        "- or\n",
        "- not\n"
      ]
    },
    {
      "cell_type": "code",
      "metadata": {
        "id": "VkPHCKVsvSde",
        "colab_type": "code",
        "colab": {
          "base_uri": "https://localhost:8080/",
          "height": 68
        },
        "outputId": "4cedf4d0-2a71-418c-c87f-cb7c375d5b16"
      },
      "source": [
        "i=100\n",
        "a1=(i>15) and (i<800)\n",
        "a2=(i>15) or (i>800)\n",
        "i= not 100\n",
        "print(a1)\n",
        "print(a2)\n",
        "print(i)\n",
        "\n",
        "\n"
      ],
      "execution_count": 21,
      "outputs": [
        {
          "output_type": "stream",
          "text": [
            "True\n",
            "True\n",
            "False\n"
          ],
          "name": "stdout"
        }
      ]
    },
    {
      "cell_type": "code",
      "metadata": {
        "id": "1mCm9xsFvl04",
        "colab_type": "code",
        "colab": {}
      },
      "source": [
        ""
      ],
      "execution_count": 0,
      "outputs": []
    },
    {
      "cell_type": "markdown",
      "metadata": {
        "id": "OazxcKInwzIO",
        "colab_type": "text"
      },
      "source": [
        "# control flow statements\n",
        "###conditional stmts\n",
        "### looping stmts\n",
        "\n",
        "\n",
        "\n",
        "\n",
        "\n",
        "# if-else stmt\n",
        "## syntax\n",
        "# if boolean_condition\n",
        "# statements\n",
        "# else:\n",
        "# statements\n",
        "\n",
        "\n"
      ]
    },
    {
      "cell_type": "code",
      "metadata": {
        "id": "MV68p1iSxpV2",
        "colab_type": "code",
        "colab": {}
      },
      "source": [
        ""
      ],
      "execution_count": 0,
      "outputs": []
    },
    {
      "cell_type": "markdown",
      "metadata": {
        "id": "wwmNzTi6xq2p",
        "colab_type": "text"
      },
      "source": [
        "## To check given num is even or odd\n"
      ]
    },
    {
      "cell_type": "code",
      "metadata": {
        "id": "E8fm7e77xwVz",
        "colab_type": "code",
        "colab": {
          "base_uri": "https://localhost:8080/",
          "height": 51
        },
        "outputId": "2b511d24-4897-4c8a-bd02-28a38a88b319"
      },
      "source": [
        "n=int(input(\"enter  a num\"))\n",
        "if n%2==0:\n",
        "  print(n,\"is even num\")\n",
        "else:\n",
        "  print(n,\"is odd num\")"
      ],
      "execution_count": 26,
      "outputs": [
        {
          "output_type": "stream",
          "text": [
            "enter  a num2\n",
            "2 is even num\n"
          ],
          "name": "stdout"
        }
      ]
    },
    {
      "cell_type": "code",
      "metadata": {
        "id": "mHWqR0igx_XV",
        "colab_type": "code",
        "colab": {}
      },
      "source": [
        ""
      ],
      "execution_count": 0,
      "outputs": []
    },
    {
      "cell_type": "markdown",
      "metadata": {
        "id": "jDve9qoFy4PJ",
        "colab_type": "text"
      },
      "source": [
        "# to check given num is perfectly multiples of 3 and 5\n"
      ]
    },
    {
      "cell_type": "code",
      "metadata": {
        "id": "1X9RjFf9zCAf",
        "colab_type": "code",
        "colab": {
          "base_uri": "https://localhost:8080/",
          "height": 51
        },
        "outputId": "c73e53e5-8bf8-43b9-c7a3-4ee6ed534a5f"
      },
      "source": [
        "n=int(input(\"enter a num\"))\n",
        "if (n%3==0) and (n%5==0):\n",
        "  print(\"multiple\")\n",
        "else:\n",
        "  print(\"not multiple\")"
      ],
      "execution_count": 28,
      "outputs": [
        {
          "output_type": "stream",
          "text": [
            "enter a num12\n",
            "not multiple\n"
          ],
          "name": "stdout"
        }
      ]
    },
    {
      "cell_type": "code",
      "metadata": {
        "id": "uS0len7czel0",
        "colab_type": "code",
        "colab": {}
      },
      "source": [
        ""
      ],
      "execution_count": 0,
      "outputs": []
    },
    {
      "cell_type": "markdown",
      "metadata": {
        "id": "K2ns78Lo1bVN",
        "colab_type": "text"
      },
      "source": [
        "### check given num is +ve -ve oor zero\n"
      ]
    },
    {
      "cell_type": "code",
      "metadata": {
        "id": "DRNUiFDq1kkT",
        "colab_type": "code",
        "colab": {
          "base_uri": "https://localhost:8080/",
          "height": 51
        },
        "outputId": "b1a905b7-cc69-4efa-ff8d-6598622496c7"
      },
      "source": [
        "n=int(input(\"enter one num\"))\n",
        "if n>0:\n",
        " print(\"positive\")\n",
        "elif n<0:\n",
        " print(\"negitive\")\n",
        "else:\n",
        "  print(\"equals to 0\")"
      ],
      "execution_count": 31,
      "outputs": [
        {
          "output_type": "stream",
          "text": [
            "enter one num2\n",
            "positive\n"
          ],
          "name": "stdout"
        }
      ]
    },
    {
      "cell_type": "code",
      "metadata": {
        "id": "GDJOt0BC16MW",
        "colab_type": "code",
        "colab": {
          "base_uri": "https://localhost:8080/",
          "height": 85
        },
        "outputId": "e422644e-4a19-4e02-ad66-ca2b898b6f11"
      },
      "source": [
        "\n",
        "n1=int(input(\"enter a value\"))\n",
        "n2=int(input(\"enter b value\"))\n",
        "n3=int(input(\"enter c value\"))\n",
        "if n1>n2 and n1>n3:\n",
        "  print(\"a is greatest\")\n",
        "elif  n2>n3:\n",
        "  print(\"b is greatest\")\n",
        "else:\n",
        "  print(\"c is greatest\")"
      ],
      "execution_count": 37,
      "outputs": [
        {
          "output_type": "stream",
          "text": [
            "enter a value10\n",
            "enter b value2\n",
            "enter c value3\n",
            "a is greatest\n"
          ],
          "name": "stdout"
        }
      ]
    },
    {
      "cell_type": "code",
      "metadata": {
        "id": "JxpyHoPw2Gs8",
        "colab_type": "code",
        "colab": {
          "base_uri": "https://localhost:8080/",
          "height": 51
        },
        "outputId": "efd15825-445d-4d30-d04d-40fe17ab0100"
      },
      "source": [
        "n=int(input(\"enter a year\"))\n",
        "if (n%4==0) or (n%100==0) or (n%400==0):\n",
        " print(\"leap year\")\n",
        "else:\n",
        " print(\"not a leap year\")\n",
        " "
      ],
      "execution_count": 42,
      "outputs": [
        {
          "output_type": "stream",
          "text": [
            "enter a year1900\n",
            "leap year\n"
          ],
          "name": "stdout"
        }
      ]
    },
    {
      "cell_type": "code",
      "metadata": {
        "id": "bxvvp1pY5-L_",
        "colab_type": "code",
        "colab": {}
      },
      "source": [
        ""
      ],
      "execution_count": 0,
      "outputs": []
    }
  ]
}